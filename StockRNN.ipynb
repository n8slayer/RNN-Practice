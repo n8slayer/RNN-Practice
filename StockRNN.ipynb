{
 "cells": [
  {
   "cell_type": "code",
   "execution_count": 4,
   "metadata": {},
   "outputs": [],
   "source": [
    "#libararies need for RNN\n",
    "import pandas as pd\n",
    "import numpy as np\n",
    "import matplotlib.pyplot as plt\n",
    "from sklearn.preprocessing import MinMaxScaler\n",
    "from keras.models import Sequential\n",
    "from keras.models import load_model\n",
    "from keras.layers import LSTM\n",
    "from keras.layers import Dropout\n",
    "from keras.layers import Dense\n",
    "import os\n"
   ]
  },
  {
   "cell_type": "code",
   "execution_count": 49,
   "metadata": {},
   "outputs": [],
   "source": [
    "#Data for test, TSLA, Rshape\n",
    "df = pd.read_csv('TSLA.csv')"
   ]
  },
  {
   "cell_type": "code",
   "execution_count": 50,
   "metadata": {},
   "outputs": [
    {
     "data": {
      "text/html": [
       "<div>\n",
       "<style scoped>\n",
       "    .dataframe tbody tr th:only-of-type {\n",
       "        vertical-align: middle;\n",
       "    }\n",
       "\n",
       "    .dataframe tbody tr th {\n",
       "        vertical-align: top;\n",
       "    }\n",
       "\n",
       "    .dataframe thead th {\n",
       "        text-align: right;\n",
       "    }\n",
       "</style>\n",
       "<table border=\"1\" class=\"dataframe\">\n",
       "  <thead>\n",
       "    <tr style=\"text-align: right;\">\n",
       "      <th></th>\n",
       "      <th>Date</th>\n",
       "      <th>Open</th>\n",
       "      <th>High</th>\n",
       "      <th>Low</th>\n",
       "      <th>Close</th>\n",
       "      <th>Adj Close</th>\n",
       "      <th>Volume</th>\n",
       "    </tr>\n",
       "  </thead>\n",
       "  <tbody>\n",
       "    <tr>\n",
       "      <th>0</th>\n",
       "      <td>2015-01-02</td>\n",
       "      <td>222.869995</td>\n",
       "      <td>223.250000</td>\n",
       "      <td>213.259995</td>\n",
       "      <td>219.309998</td>\n",
       "      <td>219.309998</td>\n",
       "      <td>4764400</td>\n",
       "    </tr>\n",
       "    <tr>\n",
       "      <th>1</th>\n",
       "      <td>2015-01-05</td>\n",
       "      <td>214.550003</td>\n",
       "      <td>216.500000</td>\n",
       "      <td>207.160004</td>\n",
       "      <td>210.089996</td>\n",
       "      <td>210.089996</td>\n",
       "      <td>5368500</td>\n",
       "    </tr>\n",
       "    <tr>\n",
       "      <th>2</th>\n",
       "      <td>2015-01-06</td>\n",
       "      <td>210.059998</td>\n",
       "      <td>214.199997</td>\n",
       "      <td>204.210007</td>\n",
       "      <td>211.279999</td>\n",
       "      <td>211.279999</td>\n",
       "      <td>6261900</td>\n",
       "    </tr>\n",
       "    <tr>\n",
       "      <th>3</th>\n",
       "      <td>2015-01-07</td>\n",
       "      <td>213.350006</td>\n",
       "      <td>214.779999</td>\n",
       "      <td>209.779999</td>\n",
       "      <td>210.949997</td>\n",
       "      <td>210.949997</td>\n",
       "      <td>2968400</td>\n",
       "    </tr>\n",
       "    <tr>\n",
       "      <th>4</th>\n",
       "      <td>2015-01-08</td>\n",
       "      <td>212.809998</td>\n",
       "      <td>213.800003</td>\n",
       "      <td>210.009995</td>\n",
       "      <td>210.619995</td>\n",
       "      <td>210.619995</td>\n",
       "      <td>3442500</td>\n",
       "    </tr>\n",
       "    <tr>\n",
       "      <th>5</th>\n",
       "      <td>2015-01-09</td>\n",
       "      <td>208.919998</td>\n",
       "      <td>209.979996</td>\n",
       "      <td>204.960007</td>\n",
       "      <td>206.660004</td>\n",
       "      <td>206.660004</td>\n",
       "      <td>4668300</td>\n",
       "    </tr>\n",
       "    <tr>\n",
       "      <th>6</th>\n",
       "      <td>2015-01-12</td>\n",
       "      <td>203.050003</td>\n",
       "      <td>204.470001</td>\n",
       "      <td>199.250000</td>\n",
       "      <td>202.210007</td>\n",
       "      <td>202.210007</td>\n",
       "      <td>5950300</td>\n",
       "    </tr>\n",
       "    <tr>\n",
       "      <th>7</th>\n",
       "      <td>2015-01-13</td>\n",
       "      <td>203.320007</td>\n",
       "      <td>207.610001</td>\n",
       "      <td>200.910004</td>\n",
       "      <td>204.250000</td>\n",
       "      <td>204.250000</td>\n",
       "      <td>4477300</td>\n",
       "    </tr>\n",
       "    <tr>\n",
       "      <th>8</th>\n",
       "      <td>2015-01-14</td>\n",
       "      <td>185.830002</td>\n",
       "      <td>195.199997</td>\n",
       "      <td>185.000000</td>\n",
       "      <td>192.690002</td>\n",
       "      <td>192.690002</td>\n",
       "      <td>11551900</td>\n",
       "    </tr>\n",
       "    <tr>\n",
       "      <th>9</th>\n",
       "      <td>2015-01-15</td>\n",
       "      <td>194.490005</td>\n",
       "      <td>195.750000</td>\n",
       "      <td>190.000000</td>\n",
       "      <td>191.869995</td>\n",
       "      <td>191.869995</td>\n",
       "      <td>5216500</td>\n",
       "    </tr>\n",
       "  </tbody>\n",
       "</table>\n",
       "</div>"
      ],
      "text/plain": [
       "         Date        Open        High         Low       Close   Adj Close  \\\n",
       "0  2015-01-02  222.869995  223.250000  213.259995  219.309998  219.309998   \n",
       "1  2015-01-05  214.550003  216.500000  207.160004  210.089996  210.089996   \n",
       "2  2015-01-06  210.059998  214.199997  204.210007  211.279999  211.279999   \n",
       "3  2015-01-07  213.350006  214.779999  209.779999  210.949997  210.949997   \n",
       "4  2015-01-08  212.809998  213.800003  210.009995  210.619995  210.619995   \n",
       "5  2015-01-09  208.919998  209.979996  204.960007  206.660004  206.660004   \n",
       "6  2015-01-12  203.050003  204.470001  199.250000  202.210007  202.210007   \n",
       "7  2015-01-13  203.320007  207.610001  200.910004  204.250000  204.250000   \n",
       "8  2015-01-14  185.830002  195.199997  185.000000  192.690002  192.690002   \n",
       "9  2015-01-15  194.490005  195.750000  190.000000  191.869995  191.869995   \n",
       "\n",
       "     Volume  \n",
       "0   4764400  \n",
       "1   5368500  \n",
       "2   6261900  \n",
       "3   2968400  \n",
       "4   3442500  \n",
       "5   4668300  \n",
       "6   5950300  \n",
       "7   4477300  \n",
       "8  11551900  \n",
       "9   5216500  "
      ]
     },
     "execution_count": 50,
     "metadata": {},
     "output_type": "execute_result"
    }
   ],
   "source": [
    "df.head(10)"
   ]
  },
  {
   "cell_type": "code",
   "execution_count": 51,
   "metadata": {},
   "outputs": [
    {
     "name": "stdout",
     "output_type": "stream",
     "text": [
      "(1258, 1)\n"
     ]
    }
   ],
   "source": [
    "#shaping data\n",
    "df = df['Open'].values\n",
    "df = df.reshape(-1, 1) #creates a new row with everything in the first coloumn\n",
    "print(df.shape)"
   ]
  },
  {
   "cell_type": "code",
   "execution_count": 46,
   "metadata": {},
   "outputs": [],
   "source": [
    "#split data\n",
    "ds_train = np.array(df[:int(df.shape[0]*0.80)])\n",
    "ds_test = np.array(df[int(df.shape[0]*0.80)-50:])\n",
    "scaler = MinMaxScaler(feature_range=(0,1))\n",
    "ds_train = scaler.fit_transform(ds_train)\n",
    "ds_test = scaler.fit_transform(ds_test)"
   ]
  },
  {
   "cell_type": "code",
   "execution_count": 74,
   "metadata": {},
   "outputs": [],
   "source": [
    "#timestamps to look over in this case we do every 30 \n",
    "\n",
    "def create_data(df):\n",
    "    x=[]\n",
    "    y=[]\n",
    "    \n",
    "    for i in range(50, df.shape[0]):  #number of timestamps per training set\n",
    "        x.append(df[i-50:i, 0])\n",
    "        y.append(df[i,0])\n",
    "    x=np.array(x)\n",
    "    y=np.array(y)\n",
    "    \n",
    "    return x,y"
   ]
  },
  {
   "cell_type": "code",
   "execution_count": 75,
   "metadata": {},
   "outputs": [],
   "source": [
    "#reshape data\n",
    "x_test, y_test = create_data(ds_train) \n",
    "x_train = np.reshape(x_train, (x_train.shape[0], x_train.shape[1], 1))\n",
    "x_test = np.reshape(x_test, (x_test.shape[0], x_test.shape[1], 1))\n"
   ]
  },
  {
   "cell_type": "code",
   "execution_count": 81,
   "metadata": {},
   "outputs": [],
   "source": [
    "#model for RNN\n",
    "model = Sequential()\n",
    "model.add(LSTM(units=96, return_sequences=True, input_shape=(x_train.shape[1], 1)))\n",
    "model.add(Dropout(0.2))\n",
    "model.add(LSTM(units=96, return_sequences=True))\n",
    "model.add(Dropout(0.2))\n",
    "model.add(LSTM(units=96, return_sequences=True))\n",
    "model.add(Dropout(0.2))\n",
    "model.add(LSTM(units=96))\n",
    "model.add(Dropout(0.2))\n",
    "model.add(Dense(units=1))\n",
    "\n",
    "model.compile(loss='mean_squared_error', optimizer='adam')\n",
    "if(not os.path.exists('stock_prediction.a1')):\n",
    "    model.fit(x_train, y_train, epochs=50, batch_size=32)\n",
    "    model.save('stock_prediction.a1')\n"
   ]
  },
  {
   "cell_type": "code",
   "execution_count": 82,
   "metadata": {},
   "outputs": [],
   "source": [
    "model = load_model('stock_prediction.a1')"
   ]
  },
  {
   "cell_type": "code",
   "execution_count": 84,
   "metadata": {},
   "outputs": [
    {
     "data": {
      "text/plain": [
       "<matplotlib.legend.Legend at 0x1bf096a1948>"
      ]
     },
     "execution_count": 84,
     "metadata": {},
     "output_type": "execute_result"
    },
    {
     "data": {
      "image/png": "[encoded data removed]",
      "text/plain": [
       "<Figure size 720x360 with 1 Axes>"
      ]
     },
     "metadata": {
      "needs_background": "light"
     },
     "output_type": "display_data"
    }
   ],
   "source": [
    "predictions = model.predict(x_test)\n",
    "predictions = scaler.inverse_transform(predictions)\n",
    "\n",
    "fig, ax = plt.subplots(figsize=(10,5))\n",
    "plt.plot(df, color='red',  label=\"True Price\")\n",
    "ax.plot(range(len(y_train)+50,len(y_train)+50+len(predictions)),predictions, color='blue', label='Predicted Testing Price')\n",
    "plt.legend()"
   ]
  },
  {
   "cell_type": "code",
   "execution_count": null,
   "metadata": {},
   "outputs": [],
   "source": []
  }
 ],
 "metadata": {
  "kernelspec": {
   "display_name": "Python 3",
   "language": "python",
   "name": "python3"
  },
  "language_info": {
   "codemirror_mode": {
    "name": "ipython",
    "version": 3
   },
   "file_extension": ".py",
   "mimetype": "text/x-python",
   "name": "python",
   "nbconvert_exporter": "python",
   "pygments_lexer": "ipython3",
   "version": "3.7.6"
  }
 },
 "nbformat": 4,
 "nbformat_minor": 4
}
